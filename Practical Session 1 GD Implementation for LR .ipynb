{
 "cells": [
  {
   "cell_type": "markdown",
   "metadata": {},
   "source": [
    "## Practical Work 1"
   ]
  },
  {
   "cell_type": "markdown",
   "metadata": {},
   "source": [
    "For this practical work, the student will have to develop a Python program that is able to implement the gradient descent in order to achieve the linear regression of a set of datapoints."
   ]
  },
  {
   "cell_type": "markdown",
   "metadata": {},
   "source": [
    "#### Import numpy, matplotlib.pyplot and make it inline"
   ]
  },
  {
   "cell_type": "code",
   "execution_count": 208,
   "metadata": {},
   "outputs": [],
   "source": [
    "import numpy as np\n",
    "import matplotlib.pyplot as plt\n",
    "%matplotlib inline"
   ]
  },
  {
   "cell_type": "markdown",
   "metadata": {},
   "source": [
    "#### Read RegData csv file into numpy array  (check your data)\n",
    "##### Data source\n",
    "https://college.cengage.com/mathematics/brase/understandable_statistics/7e/students/datasets/slr/frames/frame.html\n"
   ]
  },
  {
   "cell_type": "code",
   "execution_count": 209,
   "metadata": {},
   "outputs": [
    {
     "data": {
      "text/html": [
       "<div>\n",
       "<style scoped>\n",
       "    .dataframe tbody tr th:only-of-type {\n",
       "        vertical-align: middle;\n",
       "    }\n",
       "\n",
       "    .dataframe tbody tr th {\n",
       "        vertical-align: top;\n",
       "    }\n",
       "\n",
       "    .dataframe thead th {\n",
       "        text-align: right;\n",
       "    }\n",
       "</style>\n",
       "<table border=\"1\" class=\"dataframe\">\n",
       "  <thead>\n",
       "    <tr style=\"text-align: right;\">\n",
       "      <th></th>\n",
       "      <th>0</th>\n",
       "      <th>1</th>\n",
       "    </tr>\n",
       "  </thead>\n",
       "  <tbody>\n",
       "    <tr>\n",
       "      <th>0</th>\n",
       "      <td>2.9</td>\n",
       "      <td>4.0</td>\n",
       "    </tr>\n",
       "    <tr>\n",
       "      <th>1</th>\n",
       "      <td>6.7</td>\n",
       "      <td>7.4</td>\n",
       "    </tr>\n",
       "    <tr>\n",
       "      <th>2</th>\n",
       "      <td>4.9</td>\n",
       "      <td>5.0</td>\n",
       "    </tr>\n",
       "    <tr>\n",
       "      <th>3</th>\n",
       "      <td>7.9</td>\n",
       "      <td>7.2</td>\n",
       "    </tr>\n",
       "    <tr>\n",
       "      <th>4</th>\n",
       "      <td>9.8</td>\n",
       "      <td>7.9</td>\n",
       "    </tr>\n",
       "    <tr>\n",
       "      <th>5</th>\n",
       "      <td>6.9</td>\n",
       "      <td>6.1</td>\n",
       "    </tr>\n",
       "    <tr>\n",
       "      <th>6</th>\n",
       "      <td>6.1</td>\n",
       "      <td>6.0</td>\n",
       "    </tr>\n",
       "    <tr>\n",
       "      <th>7</th>\n",
       "      <td>6.2</td>\n",
       "      <td>5.8</td>\n",
       "    </tr>\n",
       "    <tr>\n",
       "      <th>8</th>\n",
       "      <td>6.0</td>\n",
       "      <td>5.2</td>\n",
       "    </tr>\n",
       "    <tr>\n",
       "      <th>9</th>\n",
       "      <td>5.1</td>\n",
       "      <td>4.2</td>\n",
       "    </tr>\n",
       "    <tr>\n",
       "      <th>10</th>\n",
       "      <td>4.7</td>\n",
       "      <td>4.0</td>\n",
       "    </tr>\n",
       "    <tr>\n",
       "      <th>11</th>\n",
       "      <td>4.4</td>\n",
       "      <td>4.4</td>\n",
       "    </tr>\n",
       "    <tr>\n",
       "      <th>12</th>\n",
       "      <td>5.8</td>\n",
       "      <td>5.2</td>\n",
       "    </tr>\n",
       "  </tbody>\n",
       "</table>\n",
       "</div>"
      ],
      "text/plain": [
       "      0    1\n",
       "0   2.9  4.0\n",
       "1   6.7  7.4\n",
       "2   4.9  5.0\n",
       "3   7.9  7.2\n",
       "4   9.8  7.9\n",
       "5   6.9  6.1\n",
       "6   6.1  6.0\n",
       "7   6.2  5.8\n",
       "8   6.0  5.2\n",
       "9   5.1  4.2\n",
       "10  4.7  4.0\n",
       "11  4.4  4.4\n",
       "12  5.8  5.2"
      ]
     },
     "execution_count": 209,
     "metadata": {},
     "output_type": "execute_result"
    }
   ],
   "source": [
    "import pandas as pd\n",
    "df=pd.read_csv(r'C:\\Users\\SaiF El-deen\\Desktop\\Numerical Optimization\\Practicals\\RegData.csv', sep=',',header=None)\n",
    "df"
   ]
  },
  {
   "cell_type": "code",
   "execution_count": 210,
   "metadata": {},
   "outputs": [
    {
     "name": "stdout",
     "output_type": "stream",
     "text": [
      "X_data = [2.9000001  6.69999981 4.9000001  7.9000001  9.80000019 6.9000001\n",
      " 6.0999999  6.19999981 6.         5.0999999  4.69999981 4.4000001\n",
      " 5.80000019]\n",
      "y_data = [4.         7.4000001  5.         7.19999981 7.9000001  6.0999999\n",
      " 6.         5.80000019 5.19999981 4.19999981 4.         4.4000001\n",
      " 5.19999981]\n"
     ]
    }
   ],
   "source": [
    "# Getting values\n",
    "x_points = df[0].values\n",
    "y_points = df[1].values\n",
    "print(\"X_data =\",x_points)\n",
    "print(\"y_data =\",y_points)"
   ]
  },
  {
   "cell_type": "markdown",
   "metadata": {},
   "source": [
    "#### Explore your data"
   ]
  },
  {
   "cell_type": "code",
   "execution_count": 211,
   "metadata": {},
   "outputs": [
    {
     "name": "stdout",
     "output_type": "stream",
     "text": [
      "(13,)\n",
      "X_data =\n",
      " [[2.9000001 ]\n",
      " [6.69999981]\n",
      " [4.9000001 ]\n",
      " [7.9000001 ]\n",
      " [9.80000019]\n",
      " [6.9000001 ]\n",
      " [6.0999999 ]\n",
      " [6.19999981]\n",
      " [6.        ]\n",
      " [5.0999999 ]\n",
      " [4.69999981]\n",
      " [4.4000001 ]\n",
      " [5.80000019]]\n",
      "(13,)\n",
      "y_data =\n",
      " [[4.        ]\n",
      " [7.4000001 ]\n",
      " [5.        ]\n",
      " [7.19999981]\n",
      " [7.9000001 ]\n",
      " [6.0999999 ]\n",
      " [6.        ]\n",
      " [5.80000019]\n",
      " [5.19999981]\n",
      " [4.19999981]\n",
      " [4.        ]\n",
      " [4.4000001 ]\n",
      " [5.19999981]]\n"
     ]
    }
   ],
   "source": [
    "print(x_points.shape)\n",
    "x_points = x_points.reshape((-1,1))\n",
    "print(\"X_data =\\n\",x_points)\n",
    "\n",
    "print(y_points.shape)\n",
    "y_points = y_points.reshape((-1,1))\n",
    "print(\"y_data =\\n\",y_points)"
   ]
  },
  {
   "cell_type": "markdown",
   "metadata": {},
   "source": [
    "#### Define variables X and y. Assign first column data to X and second column to y\n",
    "<b>Note:</b> X is the independent variable (input to LR model) and y is the dependent variable (output)"
   ]
  },
  {
   "cell_type": "code",
   "execution_count": 212,
   "metadata": {},
   "outputs": [
    {
     "name": "stdout",
     "output_type": "stream",
     "text": [
      "X_data =\n",
      " [[2.9000001 ]\n",
      " [6.69999981]\n",
      " [4.9000001 ]\n",
      " [7.9000001 ]\n",
      " [9.80000019]\n",
      " [6.9000001 ]\n",
      " [6.0999999 ]\n",
      " [6.19999981]\n",
      " [6.        ]\n",
      " [5.0999999 ]\n",
      " [4.69999981]\n",
      " [4.4000001 ]\n",
      " [5.80000019]]\n",
      "y_data =\n",
      " [[4.        ]\n",
      " [7.4000001 ]\n",
      " [5.        ]\n",
      " [7.19999981]\n",
      " [7.9000001 ]\n",
      " [6.0999999 ]\n",
      " [6.        ]\n",
      " [5.80000019]\n",
      " [5.19999981]\n",
      " [4.19999981]\n",
      " [4.        ]\n",
      " [4.4000001 ]\n",
      " [5.19999981]]\n"
     ]
    }
   ],
   "source": [
    "print(\"X_data =\\n\",x_points)\n",
    "print(\"y_data =\\n\",y_points)"
   ]
  },
  {
   "cell_type": "markdown",
   "metadata": {},
   "source": [
    "#### Plot the original data (scatter plot of X,y)"
   ]
  },
  {
   "cell_type": "code",
   "execution_count": 213,
   "metadata": {},
   "outputs": [
    {
     "data": {
      "image/png": "[encoded data removed]",
      "text/plain": [
       "<Figure size 1008x576 with 1 Axes>"
      ]
     },
     "metadata": {
      "needs_background": "light"
     },
     "output_type": "display_data"
    }
   ],
   "source": [
    "fig = plt.figure(figsize=(14,8))\n",
    "fig1 = fig.add_subplot(111)\n",
    "fig1.scatter(x_points,y_points);\n",
    "plt.xlabel(\"X\")\n",
    "plt.ylabel(\"Y\");\n",
    "plt.grid()"
   ]
  },
  {
   "cell_type": "markdown",
   "metadata": {},
   "source": [
    "## LR Full Implementation"
   ]
  },
  {
   "cell_type": "code",
   "execution_count": 214,
   "metadata": {},
   "outputs": [],
   "source": [
    "def GD(x_data,y_data,epochs,batch_size,gamma,alpha): # General rule but if \"mini patch\" then batch size = 4 , \"stochastic\" then batch size = 1 , \"batch GD\" then batch size = 12\n",
    "    m = len(x_data)\n",
    "    vt = 0\n",
    "    loss = []\n",
    "    theta_iteration = []\n",
    "    x_data = x_data.reshape((-1,1))\n",
    "    y_data = y_data.reshape((-1,1))\n",
    "    theta = np.zeros((2,1)) \n",
    "    b = batch_size\n",
    "    steps = m//b if (m%b)==0 else (m//b)+1 # integer division to get all steps even the missed step we +1 \n",
    "    for _ in range(epochs):\n",
    "        for step in range(steps):\n",
    "            x_batch = x_data[step*b:(step+1)*b]\n",
    "            y_batch = y_data[step*b:(step+1)*b]\n",
    "            x_batch = np.concatenate((np.ones_like(x_batch),x_batch),axis=1) # ones in x batch\n",
    "            h = x_batch @ theta # 4x2 @ 2x1\n",
    "            loss.append((1/(2*b))*np.sum(np.square(h-y_batch)))\n",
    "            vt = gamma*vt + alpha * (1/b)*(x_batch.T@(h-y_batch)) # gamma 0 till 1 > 0 then no momentum  #// x_batch.T 2x4  x (h-y_batch) 4x1 = 2x1\n",
    "            theta = theta - vt\n",
    "            theta_iteration.append(theta)\n",
    "    loss = np.array(loss)\n",
    "    theta_iteration = np.array(theta_iteration)\n",
    "    return theta , loss ,theta_iteration"
   ]
  },
  {
   "cell_type": "code",
   "execution_count": 215,
   "metadata": {
    "scrolled": false
   },
   "outputs": [
    {
     "name": "stdout",
     "output_type": "stream",
     "text": [
      "theta =  [[0.22699668]\n",
      " [0.88319514]]\n",
      "h =\n",
      " [[2.78826268]\n",
      " [6.14440397]\n",
      " [4.55465296]\n",
      " [7.20423839]\n",
      " [8.88230925]\n",
      " [6.32104325]\n",
      " [5.61448697]\n",
      " [5.7028064 ]\n",
      " [5.52616754]\n",
      " [4.73129182]\n",
      " [4.37801368]\n",
      " [4.11305539]\n",
      " [5.34952868]]\n"
     ]
    },
    {
     "data": {
      "image/png": "[encoded data removed]",
      "text/plain": [
       "<Figure size 1008x576 with 4 Axes>"
      ]
     },
     "metadata": {
      "needs_background": "light"
     },
     "output_type": "display_data"
    }
   ],
   "source": [
    "# Batch Gradient decent\n",
    "theta,loss, theta_iteration = GD(x_points,y_points,batch_size=len(x_points),gamma=0,epochs=100,alpha=0.01)\n",
    "print(\"theta = \",theta)\n",
    "\n",
    "# print(\"theta trials =\\n\",theta_iteration)\n",
    "\n",
    "# print(\"loss = \",loss)\n",
    "\n",
    "# print(\"theta trials =\\n\",theta_iteration.shape[0])\n",
    "# print(\"theta trials =\\n\",theta_iteration.shape[1])\n",
    "# print(\"theta trials =\\n\",theta_iteration[0])\n",
    "# print(\"theta trials =\\n\",theta_iteration[1])\n",
    "\n",
    "\n",
    "# h = []\n",
    "# for x in x_points:\n",
    "#     h.append(theta[0] + theta[1]*x)\n",
    "# print(\"h =\\n\",h)\n",
    "\n",
    "h = theta[0] + theta[1]*x_points\n",
    "print(\"h =\\n\",h)\n",
    "\n",
    "fig = plt.figure(figsize=(14,8))\n",
    "\n",
    "fig1 =  fig.add_subplot(221)\n",
    "fig1.scatter(x_points,y_points)\n",
    "plt.plot(x_points,h,'r')\n",
    "plt.title(\"Result\",fontsize=20)\n",
    "plt.xlabel(\"X\")\n",
    "plt.ylabel(\"Y\");\n",
    "plt.grid()\n",
    "\n",
    "fig2 =  fig.add_subplot(222)\n",
    "fig2.plot(loss)\n",
    "plt.title(\"Loss graph \",fontsize=16);\n",
    "plt.xlabel(\"epoch\")\n",
    "plt.ylabel(\"loss\");\n",
    "plt.grid()\n",
    "\n",
    "fig3 =  fig.add_subplot(223)\n",
    "fig3.plot(theta_iteration[:,0],loss)\n",
    "plt.title(\"Loss vs Theta \",fontsize=16);\n",
    "plt.xlabel(\"theta_0\")\n",
    "plt.ylabel(\"loss\");\n",
    "plt.grid()\n",
    "\n",
    "fig4 =  fig.add_subplot(224)\n",
    "fig4.plot(theta_iteration[:,1],loss)\n",
    "plt.title(\"Loss vs Theta \",fontsize=16);\n",
    "plt.xlabel(\"theta_1\")\n",
    "plt.ylabel(\"loss\");\n",
    "plt.grid()"
   ]
  },
  {
   "cell_type": "code",
   "execution_count": 216,
   "metadata": {},
   "outputs": [
    {
     "name": "stdout",
     "output_type": "stream",
     "text": [
      "r2_score = 75.63025293243409 %\n"
     ]
    }
   ],
   "source": [
    "print(\"r2_score =\" ,r2_score(y_points,h) * 100,\"%\")"
   ]
  },
  {
   "cell_type": "code",
   "execution_count": 217,
   "metadata": {},
   "outputs": [
    {
     "data": {
      "image/png": "[encoded data removed]",
      "text/plain": [
       "<Figure size 432x288 with 1 Axes>"
      ]
     },
     "metadata": {
      "needs_background": "light"
     },
     "output_type": "display_data"
    }
   ],
   "source": [
    "import time\n",
    "\n",
    "plt.scatter(x_points,y_points)\n",
    "for i in range(theta_iteration.shape[0]):\n",
    "    h = theta_iteration[i,0]+x_points*theta_iteration[i,1]\n",
    "#     print(\"h = \",h)\n",
    "    plt.plot(x_points,h,c='r')\n",
    "#     plt.show()\n",
    "#     time.sleep(0.05)\n",
    "    \n",
    "\n",
    "\n",
    "plt.title(\"all regression lines till converge\",fontsize=16)\n",
    "plt.xlabel(\"X\")\n",
    "plt.ylabel(\"Y\");\n",
    "plt.grid()"
   ]
  },
  {
   "cell_type": "markdown",
   "metadata": {},
   "source": [
    "## Multivariate LR"
   ]
  },
  {
   "cell_type": "markdown",
   "metadata": {},
   "source": [
    "#### Read MultipleLR csv file into numpy array  (check your data)\n",
    "##### Data source\n",
    "https://college.cengage.com/mathematics/brase/understandable_statistics/7e/students/datasets/slr/frames/frame.html\n"
   ]
  },
  {
   "cell_type": "code",
   "execution_count": 462,
   "metadata": {},
   "outputs": [],
   "source": [
    "import numpy as np\n",
    "import matplotlib.pyplot as plt\n",
    "from sklearn.metrics import r2_score\n",
    "%matplotlib inline\n"
   ]
  },
  {
   "cell_type": "code",
   "execution_count": 463,
   "metadata": {},
   "outputs": [
    {
     "name": "stdout",
     "output_type": "stream",
     "text": [
      "     0   1    2    3\n",
      "0   73  80   75  152\n",
      "1   93  88   93  185\n",
      "2   89  91   90  180\n",
      "3   96  98  100  196\n",
      "4   73  66   70  142\n",
      "5   53  46   55  101\n",
      "6   69  74   77  149\n",
      "7   47  56   60  115\n",
      "8   87  79   90  175\n",
      "9   79  70   88  164\n",
      "10  69  70   73  141\n",
      "11  70  65   74  141\n",
      "12  93  95   91  184\n",
      "13  79  80   73  152\n",
      "14  70  73   78  148\n",
      "15  93  89   96  192\n",
      "16  78  75   68  147\n",
      "17  81  90   93  183\n",
      "18  88  92   86  177\n",
      "19  78  83   77  159\n",
      "20  82  86   90  177\n",
      "21  86  82   89  175\n",
      "22  78  83   85  175\n",
      "23  76  83   71  149\n",
      "24  96  93   95  192\n"
     ]
    }
   ],
   "source": [
    "import pandas as pd\n",
    "df2=pd.read_csv(r'C:\\Users\\SaiF El-deen\\Desktop\\Numerical Optimization\\Practicals\\MultipleLR.csv', sep=',',header=None)\n",
    "print(df2)"
   ]
  },
  {
   "cell_type": "code",
   "execution_count": 464,
   "metadata": {},
   "outputs": [
    {
     "name": "stdout",
     "output_type": "stream",
     "text": [
      "X_data = [[ 73  80  75]\n",
      " [ 93  88  93]\n",
      " [ 89  91  90]\n",
      " [ 96  98 100]\n",
      " [ 73  66  70]\n",
      " [ 53  46  55]\n",
      " [ 69  74  77]\n",
      " [ 47  56  60]\n",
      " [ 87  79  90]\n",
      " [ 79  70  88]\n",
      " [ 69  70  73]\n",
      " [ 70  65  74]\n",
      " [ 93  95  91]\n",
      " [ 79  80  73]\n",
      " [ 70  73  78]\n",
      " [ 93  89  96]\n",
      " [ 78  75  68]\n",
      " [ 81  90  93]\n",
      " [ 88  92  86]\n",
      " [ 78  83  77]\n",
      " [ 82  86  90]\n",
      " [ 86  82  89]\n",
      " [ 78  83  85]\n",
      " [ 76  83  71]\n",
      " [ 96  93  95]]\n",
      "X_data shape is  (25, 3)\n",
      "\n",
      "y_data = [152 185 180 196 142 101 149 115 175 164 141 141 184 152 148 192 147 183\n",
      " 177 159 177 175 175 149 192]\n",
      "y_data shape is  (25,)\n"
     ]
    }
   ],
   "source": [
    "# Getting values\n",
    "x_points = df2.iloc[:,:-1].values\n",
    "print(\"X_data =\",x_points)\n",
    "print(\"X_data shape is \",x_points.shape)\n",
    "\n",
    "print()\n",
    "\n",
    "y_points = df2.iloc[:,-1].values\n",
    "print(\"y_data =\",y_points)\n",
    "print(\"y_data shape is \",y_points.shape)\n",
    "\n",
    "# print()\n",
    "\n",
    "# y_points = df2[3].values\n",
    "# print(\"y_data =\",y_points)\n",
    "# print(\"y_data shape is \",y_points.shape)\n",
    "\n",
    "# print()\n",
    "\n",
    "\n",
    "\n",
    "# print()\n",
    "\n",
    "# y_points = y_points.reshape((-1,1))\n",
    "# print(\"y_data =\",y_points)\n",
    "# print(\"y_data shape is \",y_points.shape)\n",
    "\n",
    "# print()\n"
   ]
  },
  {
   "cell_type": "code",
   "execution_count": 465,
   "metadata": {},
   "outputs": [],
   "source": [
    "# x1_points = df[0].values\n",
    "# x2_points = df[1].values\n",
    "# x3_points = df[2].values\n",
    "# y_points = df[3].values\n",
    "# print(\"x1_points =\",x1_points)\n",
    "# print(\"x2_points =\",x2_pointAs)\n",
    "# print(\"x3_points =\",x3_points)\n",
    "# print(\"y_points =\",y_points)"
   ]
  },
  {
   "cell_type": "code",
   "execution_count": 466,
   "metadata": {
    "scrolled": false
   },
   "outputs": [],
   "source": [
    "# print(x1_points.shape)\n",
    "# x1_points = x1_points.reshape((-1,1))\n",
    "# print(\"x1_points =\\n\",x1_points)\n",
    "\n",
    "# print(x2_points.shape)\n",
    "# x2_points = x2_points.reshape((-1,1))\n",
    "# print(\"x2_points =\\n\",x2_points)\n",
    "\n",
    "# print(x3_points.shape)\n",
    "# x3_points = x3_points.reshape((-1,1))\n",
    "# print(\"x3_points =\\n\",x3_points)\n",
    "\n",
    "# print(y_points.shape)\n",
    "# y_points = y_points.reshape((-1,1))\n",
    "# print(\"y_points =\\n\",y_points)\n",
    "\n",
    "# print(x_points.shape)\n",
    "# x_points = np.hstack((x1_points, x2_points,x3_points))\n",
    "# xnew=np.c_(np.ones(x_points.shape[0]),x_points)\n",
    "# print(\"x_points =\\n\",xnew)\n",
    "\n",
    "# print(\"Length of x_points =\",len(x_points))"
   ]
  },
  {
   "cell_type": "code",
   "execution_count": 467,
   "metadata": {},
   "outputs": [],
   "source": [
    "# print(x_points.shape[1])"
   ]
  },
  {
   "cell_type": "code",
   "execution_count": 468,
   "metadata": {},
   "outputs": [],
   "source": [
    "def GD(x_data,y_data,epochs,batch_size,gamma,alpha): # General rule but if \"mini patch\" then batch size = 4 , \"stochastic\" then batch size = 1 , \"batch GD\" then batch size = 12\n",
    "    m = len(x_data)\n",
    "    vt = 0\n",
    "#     vt = np.zeros((x_data.shape[1]+1,1))\n",
    "    y_data = y_data.reshape((-1,1))\n",
    "\n",
    "    loss = []\n",
    "    theta_iteration = []\n",
    "#     theta = np.random.random(size=(x_data.shape[1]+1,1)) # theta = 4x1\n",
    "    theta = np.zeros((x_data.shape[1]+1,1)) # theta = 4x1\n",
    "    b = batch_size\n",
    "    steps = m//b if (m%b)==0 else (m//b)+1 # integer division to get all steps even the missed step we +1 \n",
    "    for _ in range(epochs):\n",
    "        for step in range(steps):\n",
    "            x_batch = x_data[step*b:(step+1)*b]\n",
    "            y_batch = y_data[step*b:(step+1)*b]\n",
    "            x_batch = np.concatenate((np.ones((x_batch.shape[0],1)),x_batch),axis=1) # ones in x batch\n",
    "            h = x_batch @ theta \n",
    "            loss.append((1/(2*b))*np.sum(np.square(h-y_batch)))\n",
    "            vt = gamma*vt + alpha * (1/b)*(x_batch.T@(h-y_batch)) # gamma 0 till 1 > 0 then no momentum  #// x_batch.T 2x4  x (h-y_batch) 4x1 = 2x1\n",
    "            theta = theta - vt\n",
    "            theta_iteration.append(theta)\n",
    "    loss = np.array(loss)\n",
    "    theta_iteration = np.array(theta_iteration)\n",
    "    return theta , loss ,theta_iteration"
   ]
  },
  {
   "cell_type": "code",
   "execution_count": 469,
   "metadata": {
    "scrolled": true
   },
   "outputs": [
    {
     "name": "stdout",
     "output_type": "stream",
     "text": [
      "theta =  [[0.00760393]\n",
      " [0.58930499]\n",
      " [0.59328266]\n",
      " [0.83873404]]\n",
      "h =\n",
      " [[153.39453432]\n",
      " [185.02410821]\n",
      " [181.93053409]\n",
      " [198.59598808]\n",
      " [140.89490687]\n",
      " [104.66214321]\n",
      " [149.15508649]\n",
      " [111.25281008]\n",
      " [173.6325322 ]\n",
      " [161.90108026]\n",
      " [143.42701968]\n",
      " [141.88864542]\n",
      " [187.49961873]\n",
      " [155.25289617]\n",
      " [149.98984287]\n",
      " [188.133593  ]\n",
      " [147.50350766]\n",
      " [179.13901364]\n",
      " [178.57957558]\n",
      " [159.79837534]\n",
      " [174.83898586]\n",
      " [173.98434114]\n",
      " [166.5082477 ]\n",
      " [153.58736109]\n",
      " [191.43590456]]\n"
     ]
    },
    {
     "data": {
      "image/png": "[encoded data removed]",
      "text/plain": [
       "<Figure size 1008x576 with 1 Axes>"
      ]
     },
     "metadata": {
      "needs_background": "light"
     },
     "output_type": "display_data"
    }
   ],
   "source": [
    "# Batch Gradient decent\n",
    "theta,loss, theta_iteration = GD(x_points,y_points,batch_size=len(x_points),gamma=0.1,epochs=1000,alpha=0.00002)\n",
    "print(\"theta = \",theta)\n",
    "# print(\"theta trials =\\n\",theta_iteration)\n",
    "\n",
    "# print(\"loss = \",loss)\n",
    "\n",
    "# print(\"theta trials =\\n\",theta_iteration.shape[0])\n",
    "# print(\"theta trials =\\n\",theta_iteration.shape[1])\n",
    "# print(\"theta trials =\\n\",theta_iteration[0])\n",
    "# print(\"theta trials =\\n\",theta_iteration[1])\n",
    "\n",
    "\n",
    "# h = []\n",
    "# for x in x_points:\n",
    "#     h.append(theta[0] + theta[1]*x)\n",
    "# print(\"h =\\n\",h)\n",
    "\n",
    "h =  theta[0] +  x_points @ theta[1:]\n",
    "print(\"h =\\n\",h)\n",
    "\n",
    "\n",
    "fig = plt.figure(figsize=(14,8))\n",
    "\n",
    "# fig1 =  fig.add_subplot(221)\n",
    "# fig1.scatter(x_points,y_points)\n",
    "# plt.plot(x_points,h,'r')\n",
    "# plt.title(\"Result\",fontsize=20)\n",
    "# plt.xlabel(\"X\")\n",
    "# plt.ylabel(\"Y\");\n",
    "\n",
    "fig2 =  fig.add_subplot(222)\n",
    "fig2.plot(loss)\n",
    "# fig2.plot(loss)\n",
    "plt.title(\"Loss graph \",fontsize=16);\n",
    "plt.xlabel(\"epoch\")\n",
    "plt.ylabel(\"loss\");\n",
    "\n",
    "# fig3 =  fig.add_subplot(223)\n",
    "# fig3.plot(theta_iteration[:,0],loss)\n",
    "# plt.title(\"Loss vs Theta \",fontsize=16);\n",
    "# plt.xlabel(\"theta_0\")\n",
    "# plt.ylabel(\"loss\");\n",
    "\n",
    "# fig4 =  fig.add_subplot(224)\n",
    "# fig4.plot(theta_iteration[:,1],loss)\n",
    "# plt.title(\"Loss vs Theta \",fontsize=16);\n",
    "# plt.xlabel(\"theta_1\")\n",
    "# plt.ylabel(\"loss\");"
   ]
  },
  {
   "cell_type": "code",
   "execution_count": 470,
   "metadata": {},
   "outputs": [
    {
     "name": "stdout",
     "output_type": "stream",
     "text": [
      "r2_score = 98.46292236978633 %\n"
     ]
    }
   ],
   "source": [
    "print(\"r2_score =\" ,r2_score(y_points,h) * 100,\"%\")"
   ]
  },
  {
   "cell_type": "markdown",
   "metadata": {},
   "source": [
    "# Bonus\n",
    "## LR Using sklearn"
   ]
  },
  {
   "cell_type": "markdown",
   "metadata": {},
   "source": [
    "### Single Variable"
   ]
  },
  {
   "cell_type": "markdown",
   "metadata": {},
   "source": [
    "#### Build a LR model usin linearmodel.LinearRegression() from sklearn library"
   ]
  },
  {
   "cell_type": "code",
   "execution_count": 222,
   "metadata": {},
   "outputs": [],
   "source": [
    "from sklearn.linear_model import LinearRegression"
   ]
  },
  {
   "cell_type": "code",
   "execution_count": 223,
   "metadata": {},
   "outputs": [
    {
     "data": {
      "text/html": [
       "<div>\n",
       "<style scoped>\n",
       "    .dataframe tbody tr th:only-of-type {\n",
       "        vertical-align: middle;\n",
       "    }\n",
       "\n",
       "    .dataframe tbody tr th {\n",
       "        vertical-align: top;\n",
       "    }\n",
       "\n",
       "    .dataframe thead th {\n",
       "        text-align: right;\n",
       "    }\n",
       "</style>\n",
       "<table border=\"1\" class=\"dataframe\">\n",
       "  <thead>\n",
       "    <tr style=\"text-align: right;\">\n",
       "      <th></th>\n",
       "      <th>0</th>\n",
       "      <th>1</th>\n",
       "    </tr>\n",
       "  </thead>\n",
       "  <tbody>\n",
       "    <tr>\n",
       "      <th>0</th>\n",
       "      <td>2.9</td>\n",
       "      <td>4.0</td>\n",
       "    </tr>\n",
       "    <tr>\n",
       "      <th>1</th>\n",
       "      <td>6.7</td>\n",
       "      <td>7.4</td>\n",
       "    </tr>\n",
       "    <tr>\n",
       "      <th>2</th>\n",
       "      <td>4.9</td>\n",
       "      <td>5.0</td>\n",
       "    </tr>\n",
       "    <tr>\n",
       "      <th>3</th>\n",
       "      <td>7.9</td>\n",
       "      <td>7.2</td>\n",
       "    </tr>\n",
       "    <tr>\n",
       "      <th>4</th>\n",
       "      <td>9.8</td>\n",
       "      <td>7.9</td>\n",
       "    </tr>\n",
       "    <tr>\n",
       "      <th>5</th>\n",
       "      <td>6.9</td>\n",
       "      <td>6.1</td>\n",
       "    </tr>\n",
       "    <tr>\n",
       "      <th>6</th>\n",
       "      <td>6.1</td>\n",
       "      <td>6.0</td>\n",
       "    </tr>\n",
       "    <tr>\n",
       "      <th>7</th>\n",
       "      <td>6.2</td>\n",
       "      <td>5.8</td>\n",
       "    </tr>\n",
       "    <tr>\n",
       "      <th>8</th>\n",
       "      <td>6.0</td>\n",
       "      <td>5.2</td>\n",
       "    </tr>\n",
       "    <tr>\n",
       "      <th>9</th>\n",
       "      <td>5.1</td>\n",
       "      <td>4.2</td>\n",
       "    </tr>\n",
       "    <tr>\n",
       "      <th>10</th>\n",
       "      <td>4.7</td>\n",
       "      <td>4.0</td>\n",
       "    </tr>\n",
       "    <tr>\n",
       "      <th>11</th>\n",
       "      <td>4.4</td>\n",
       "      <td>4.4</td>\n",
       "    </tr>\n",
       "    <tr>\n",
       "      <th>12</th>\n",
       "      <td>5.8</td>\n",
       "      <td>5.2</td>\n",
       "    </tr>\n",
       "  </tbody>\n",
       "</table>\n",
       "</div>"
      ],
      "text/plain": [
       "      0    1\n",
       "0   2.9  4.0\n",
       "1   6.7  7.4\n",
       "2   4.9  5.0\n",
       "3   7.9  7.2\n",
       "4   9.8  7.9\n",
       "5   6.9  6.1\n",
       "6   6.1  6.0\n",
       "7   6.2  5.8\n",
       "8   6.0  5.2\n",
       "9   5.1  4.2\n",
       "10  4.7  4.0\n",
       "11  4.4  4.4\n",
       "12  5.8  5.2"
      ]
     },
     "execution_count": 223,
     "metadata": {},
     "output_type": "execute_result"
    }
   ],
   "source": [
    "import pandas as pd\n",
    "df=pd.read_csv(r'C:\\Users\\SaiF El-deen\\Desktop\\Numerical Optimization\\Practicals\\RegData.csv', sep=',',header=None)\n",
    "df"
   ]
  },
  {
   "cell_type": "code",
   "execution_count": 224,
   "metadata": {},
   "outputs": [
    {
     "name": "stdout",
     "output_type": "stream",
     "text": [
      "X_data = [2.9000001  6.69999981 4.9000001  7.9000001  9.80000019 6.9000001\n",
      " 6.0999999  6.19999981 6.         5.0999999  4.69999981 4.4000001\n",
      " 5.80000019]\n",
      "y_data = [4.         7.4000001  5.         7.19999981 7.9000001  6.0999999\n",
      " 6.         5.80000019 5.19999981 4.19999981 4.         4.4000001\n",
      " 5.19999981]\n",
      "X_data = [[2.9000001 ]\n",
      " [6.69999981]\n",
      " [4.9000001 ]\n",
      " [7.9000001 ]\n",
      " [9.80000019]\n",
      " [6.9000001 ]\n",
      " [6.0999999 ]\n",
      " [6.19999981]\n",
      " [6.        ]\n",
      " [5.0999999 ]\n",
      " [4.69999981]\n",
      " [4.4000001 ]\n",
      " [5.80000019]]\n",
      "y_data = [[4.        ]\n",
      " [7.4000001 ]\n",
      " [5.        ]\n",
      " [7.19999981]\n",
      " [7.9000001 ]\n",
      " [6.0999999 ]\n",
      " [6.        ]\n",
      " [5.80000019]\n",
      " [5.19999981]\n",
      " [4.19999981]\n",
      " [4.        ]\n",
      " [4.4000001 ]\n",
      " [5.19999981]]\n"
     ]
    }
   ],
   "source": [
    "# Getting values\n",
    "x_points = df[0].values\n",
    "y_points = df[1].values\n",
    "print(\"X_data =\",x_points)\n",
    "print(\"y_data =\",y_points)\n",
    "x_points = x_points.reshape((-1,1))\n",
    "y_points = y_points.reshape((-1,1))\n",
    "print(\"X_data =\",x_points)\n",
    "print(\"y_data =\",y_points)"
   ]
  },
  {
   "cell_type": "markdown",
   "metadata": {},
   "source": [
    "#### Train the model (fit the model to the training data)"
   ]
  },
  {
   "cell_type": "code",
   "execution_count": 235,
   "metadata": {
    "scrolled": true
   },
   "outputs": [
    {
     "data": {
      "text/plain": [
       "LinearRegression()"
      ]
     },
     "execution_count": 235,
     "metadata": {},
     "output_type": "execute_result"
    }
   ],
   "source": [
    "model = LinearRegression()\n",
    "model.fit(x_points,y_points)"
   ]
  },
  {
   "cell_type": "markdown",
   "metadata": {},
   "source": [
    "#### Predict y values using the trained model"
   ]
  },
  {
   "cell_type": "code",
   "execution_count": 226,
   "metadata": {},
   "outputs": [],
   "source": [
    "y_pred = model.predict(x_points)"
   ]
  },
  {
   "cell_type": "markdown",
   "metadata": {},
   "source": [
    "#### Plot model output (fitted line) with the original data (scatter plot of X,y)"
   ]
  },
  {
   "cell_type": "code",
   "execution_count": 232,
   "metadata": {},
   "outputs": [
    {
     "data": {
      "image/png": "[encoded data removed]",
      "text/plain": [
       "<Figure size 432x288 with 1 Axes>"
      ]
     },
     "metadata": {
      "needs_background": "light"
     },
     "output_type": "display_data"
    }
   ],
   "source": [
    "plt.scatter(x_points,y_points)\n",
    "plt.plot(x_points,y_pred,c='r')\n",
    "plt.title('Regression using Sikit-learn',fontsize=16)\n",
    "plt.xlabel('X')\n",
    "plt.ylabel('Y');\n",
    "plt.grid()"
   ]
  },
  {
   "cell_type": "markdown",
   "metadata": {},
   "source": [
    "#### Use R2 score to evaluate model output"
   ]
  },
  {
   "cell_type": "code",
   "execution_count": 233,
   "metadata": {},
   "outputs": [
    {
     "name": "stdout",
     "output_type": "stream",
     "text": [
      "r2_score = 82.13156778363778 %\n"
     ]
    }
   ],
   "source": [
    "print(\"r2_score =\" ,r2_score(y_points,y_pred) * 100,\"%\")"
   ]
  },
  {
   "cell_type": "markdown",
   "metadata": {},
   "source": [
    "### Repeat for Mulivariate"
   ]
  },
  {
   "cell_type": "code",
   "execution_count": null,
   "metadata": {},
   "outputs": [],
   "source": [
    "from sklearn.linear_model import LinearRegression"
   ]
  },
  {
   "cell_type": "code",
   "execution_count": 237,
   "metadata": {},
   "outputs": [
    {
     "data": {
      "text/html": [
       "<div>\n",
       "<style scoped>\n",
       "    .dataframe tbody tr th:only-of-type {\n",
       "        vertical-align: middle;\n",
       "    }\n",
       "\n",
       "    .dataframe tbody tr th {\n",
       "        vertical-align: top;\n",
       "    }\n",
       "\n",
       "    .dataframe thead th {\n",
       "        text-align: right;\n",
       "    }\n",
       "</style>\n",
       "<table border=\"1\" class=\"dataframe\">\n",
       "  <thead>\n",
       "    <tr style=\"text-align: right;\">\n",
       "      <th></th>\n",
       "      <th>0</th>\n",
       "      <th>1</th>\n",
       "      <th>2</th>\n",
       "      <th>3</th>\n",
       "    </tr>\n",
       "  </thead>\n",
       "  <tbody>\n",
       "    <tr>\n",
       "      <th>0</th>\n",
       "      <td>73</td>\n",
       "      <td>80</td>\n",
       "      <td>75</td>\n",
       "      <td>152</td>\n",
       "    </tr>\n",
       "    <tr>\n",
       "      <th>1</th>\n",
       "      <td>93</td>\n",
       "      <td>88</td>\n",
       "      <td>93</td>\n",
       "      <td>185</td>\n",
       "    </tr>\n",
       "    <tr>\n",
       "      <th>2</th>\n",
       "      <td>89</td>\n",
       "      <td>91</td>\n",
       "      <td>90</td>\n",
       "      <td>180</td>\n",
       "    </tr>\n",
       "    <tr>\n",
       "      <th>3</th>\n",
       "      <td>96</td>\n",
       "      <td>98</td>\n",
       "      <td>100</td>\n",
       "      <td>196</td>\n",
       "    </tr>\n",
       "    <tr>\n",
       "      <th>4</th>\n",
       "      <td>73</td>\n",
       "      <td>66</td>\n",
       "      <td>70</td>\n",
       "      <td>142</td>\n",
       "    </tr>\n",
       "    <tr>\n",
       "      <th>5</th>\n",
       "      <td>53</td>\n",
       "      <td>46</td>\n",
       "      <td>55</td>\n",
       "      <td>101</td>\n",
       "    </tr>\n",
       "    <tr>\n",
       "      <th>6</th>\n",
       "      <td>69</td>\n",
       "      <td>74</td>\n",
       "      <td>77</td>\n",
       "      <td>149</td>\n",
       "    </tr>\n",
       "    <tr>\n",
       "      <th>7</th>\n",
       "      <td>47</td>\n",
       "      <td>56</td>\n",
       "      <td>60</td>\n",
       "      <td>115</td>\n",
       "    </tr>\n",
       "    <tr>\n",
       "      <th>8</th>\n",
       "      <td>87</td>\n",
       "      <td>79</td>\n",
       "      <td>90</td>\n",
       "      <td>175</td>\n",
       "    </tr>\n",
       "    <tr>\n",
       "      <th>9</th>\n",
       "      <td>79</td>\n",
       "      <td>70</td>\n",
       "      <td>88</td>\n",
       "      <td>164</td>\n",
       "    </tr>\n",
       "    <tr>\n",
       "      <th>10</th>\n",
       "      <td>69</td>\n",
       "      <td>70</td>\n",
       "      <td>73</td>\n",
       "      <td>141</td>\n",
       "    </tr>\n",
       "    <tr>\n",
       "      <th>11</th>\n",
       "      <td>70</td>\n",
       "      <td>65</td>\n",
       "      <td>74</td>\n",
       "      <td>141</td>\n",
       "    </tr>\n",
       "    <tr>\n",
       "      <th>12</th>\n",
       "      <td>93</td>\n",
       "      <td>95</td>\n",
       "      <td>91</td>\n",
       "      <td>184</td>\n",
       "    </tr>\n",
       "    <tr>\n",
       "      <th>13</th>\n",
       "      <td>79</td>\n",
       "      <td>80</td>\n",
       "      <td>73</td>\n",
       "      <td>152</td>\n",
       "    </tr>\n",
       "    <tr>\n",
       "      <th>14</th>\n",
       "      <td>70</td>\n",
       "      <td>73</td>\n",
       "      <td>78</td>\n",
       "      <td>148</td>\n",
       "    </tr>\n",
       "    <tr>\n",
       "      <th>15</th>\n",
       "      <td>93</td>\n",
       "      <td>89</td>\n",
       "      <td>96</td>\n",
       "      <td>192</td>\n",
       "    </tr>\n",
       "    <tr>\n",
       "      <th>16</th>\n",
       "      <td>78</td>\n",
       "      <td>75</td>\n",
       "      <td>68</td>\n",
       "      <td>147</td>\n",
       "    </tr>\n",
       "    <tr>\n",
       "      <th>17</th>\n",
       "      <td>81</td>\n",
       "      <td>90</td>\n",
       "      <td>93</td>\n",
       "      <td>183</td>\n",
       "    </tr>\n",
       "    <tr>\n",
       "      <th>18</th>\n",
       "      <td>88</td>\n",
       "      <td>92</td>\n",
       "      <td>86</td>\n",
       "      <td>177</td>\n",
       "    </tr>\n",
       "    <tr>\n",
       "      <th>19</th>\n",
       "      <td>78</td>\n",
       "      <td>83</td>\n",
       "      <td>77</td>\n",
       "      <td>159</td>\n",
       "    </tr>\n",
       "    <tr>\n",
       "      <th>20</th>\n",
       "      <td>82</td>\n",
       "      <td>86</td>\n",
       "      <td>90</td>\n",
       "      <td>177</td>\n",
       "    </tr>\n",
       "    <tr>\n",
       "      <th>21</th>\n",
       "      <td>86</td>\n",
       "      <td>82</td>\n",
       "      <td>89</td>\n",
       "      <td>175</td>\n",
       "    </tr>\n",
       "    <tr>\n",
       "      <th>22</th>\n",
       "      <td>78</td>\n",
       "      <td>83</td>\n",
       "      <td>85</td>\n",
       "      <td>175</td>\n",
       "    </tr>\n",
       "    <tr>\n",
       "      <th>23</th>\n",
       "      <td>76</td>\n",
       "      <td>83</td>\n",
       "      <td>71</td>\n",
       "      <td>149</td>\n",
       "    </tr>\n",
       "    <tr>\n",
       "      <th>24</th>\n",
       "      <td>96</td>\n",
       "      <td>93</td>\n",
       "      <td>95</td>\n",
       "      <td>192</td>\n",
       "    </tr>\n",
       "  </tbody>\n",
       "</table>\n",
       "</div>"
      ],
      "text/plain": [
       "     0   1    2    3\n",
       "0   73  80   75  152\n",
       "1   93  88   93  185\n",
       "2   89  91   90  180\n",
       "3   96  98  100  196\n",
       "4   73  66   70  142\n",
       "5   53  46   55  101\n",
       "6   69  74   77  149\n",
       "7   47  56   60  115\n",
       "8   87  79   90  175\n",
       "9   79  70   88  164\n",
       "10  69  70   73  141\n",
       "11  70  65   74  141\n",
       "12  93  95   91  184\n",
       "13  79  80   73  152\n",
       "14  70  73   78  148\n",
       "15  93  89   96  192\n",
       "16  78  75   68  147\n",
       "17  81  90   93  183\n",
       "18  88  92   86  177\n",
       "19  78  83   77  159\n",
       "20  82  86   90  177\n",
       "21  86  82   89  175\n",
       "22  78  83   85  175\n",
       "23  76  83   71  149\n",
       "24  96  93   95  192"
      ]
     },
     "execution_count": 237,
     "metadata": {},
     "output_type": "execute_result"
    }
   ],
   "source": [
    "import pandas as pd\n",
    "df2=pd.read_csv(r'C:\\Users\\SaiF El-deen\\Desktop\\Numerical Optimization\\Practicals\\MultipleLR.csv', sep=',',header=None)\n",
    "df2"
   ]
  },
  {
   "cell_type": "code",
   "execution_count": 257,
   "metadata": {},
   "outputs": [
    {
     "name": "stdout",
     "output_type": "stream",
     "text": [
      "X_data = [[ 73  80  75]\n",
      " [ 93  88  93]\n",
      " [ 89  91  90]\n",
      " [ 96  98 100]\n",
      " [ 73  66  70]\n",
      " [ 53  46  55]\n",
      " [ 69  74  77]\n",
      " [ 47  56  60]\n",
      " [ 87  79  90]\n",
      " [ 79  70  88]\n",
      " [ 69  70  73]\n",
      " [ 70  65  74]\n",
      " [ 93  95  91]\n",
      " [ 79  80  73]\n",
      " [ 70  73  78]\n",
      " [ 93  89  96]\n",
      " [ 78  75  68]\n",
      " [ 81  90  93]\n",
      " [ 88  92  86]\n",
      " [ 78  83  77]\n",
      " [ 82  86  90]\n",
      " [ 86  82  89]\n",
      " [ 78  83  85]\n",
      " [ 76  83  71]\n",
      " [ 96  93  95]]\n",
      "(25, 3)\n",
      "y_data = [152 185 180 196 142 101 149 115 175 164 141 141 184 152 148 192 147 183\n",
      " 177 159 177 175 175 149 192]\n",
      "y_data = [[152]\n",
      " [185]\n",
      " [180]\n",
      " [196]\n",
      " [142]\n",
      " [101]\n",
      " [149]\n",
      " [115]\n",
      " [175]\n",
      " [164]\n",
      " [141]\n",
      " [141]\n",
      " [184]\n",
      " [152]\n",
      " [148]\n",
      " [192]\n",
      " [147]\n",
      " [183]\n",
      " [177]\n",
      " [159]\n",
      " [177]\n",
      " [175]\n",
      " [175]\n",
      " [149]\n",
      " [192]]\n",
      "(25, 1)\n"
     ]
    }
   ],
   "source": [
    "# Getting values\n",
    "x_points = df2.iloc[:,:-1].values\n",
    "y_points = df2[3].values\n",
    "print(\"X_data =\",x_points)\n",
    "print(x_points.shape)\n",
    "\n",
    "print(\"y_data =\",y_points)\n",
    "y_points = y_points.reshape((-1,1))\n",
    "print(\"y_data =\",y_points)\n",
    "print(y_points.shape)\n"
   ]
  },
  {
   "cell_type": "code",
   "execution_count": 247,
   "metadata": {},
   "outputs": [
    {
     "data": {
      "text/plain": [
       "LinearRegression()"
      ]
     },
     "execution_count": 247,
     "metadata": {},
     "output_type": "execute_result"
    }
   ],
   "source": [
    "model = LinearRegression()\n",
    "model.fit(x_points,y_points)"
   ]
  },
  {
   "cell_type": "code",
   "execution_count": 248,
   "metadata": {},
   "outputs": [],
   "source": [
    "y_pred = model.predict(x_points)"
   ]
  },
  {
   "cell_type": "code",
   "execution_count": 452,
   "metadata": {},
   "outputs": [],
   "source": [
    "# plt.scatter(x_points,y_points)\n",
    "# plt.plot(x_points,y_pred,c='r')\n",
    "# plt.title('Regression using Sikit-learn',fontsize=16)\n",
    "# plt.xlabel('X')\n",
    "# plt.ylabel('Y');\n",
    "# plt.grid()"
   ]
  },
  {
   "cell_type": "code",
   "execution_count": 250,
   "metadata": {},
   "outputs": [
    {
     "name": "stdout",
     "output_type": "stream",
     "text": [
      "r2_score = 98.966157894484 %\n"
     ]
    }
   ],
   "source": [
    "print(\"r2_score =\" ,r2_score(y_points,y_pred) * 100,\"%\")"
   ]
  },
  {
   "cell_type": "markdown",
   "metadata": {},
   "source": [
    "# Singlevariate LR code"
   ]
  },
  {
   "cell_type": "code",
   "execution_count": 197,
   "metadata": {},
   "outputs": [],
   "source": [
    "import numpy as np\n",
    "import matplotlib.pyplot as plt\n",
    "from sklearn.metrics import r2_score\n",
    "%matplotlib inline\n"
   ]
  },
  {
   "cell_type": "code",
   "execution_count": 198,
   "metadata": {},
   "outputs": [
    {
     "data": {
      "text/html": [
       "<div>\n",
       "<style scoped>\n",
       "    .dataframe tbody tr th:only-of-type {\n",
       "        vertical-align: middle;\n",
       "    }\n",
       "\n",
       "    .dataframe tbody tr th {\n",
       "        vertical-align: top;\n",
       "    }\n",
       "\n",
       "    .dataframe thead th {\n",
       "        text-align: right;\n",
       "    }\n",
       "</style>\n",
       "<table border=\"1\" class=\"dataframe\">\n",
       "  <thead>\n",
       "    <tr style=\"text-align: right;\">\n",
       "      <th></th>\n",
       "      <th>0</th>\n",
       "      <th>1</th>\n",
       "    </tr>\n",
       "  </thead>\n",
       "  <tbody>\n",
       "    <tr>\n",
       "      <th>0</th>\n",
       "      <td>2.9</td>\n",
       "      <td>4.0</td>\n",
       "    </tr>\n",
       "    <tr>\n",
       "      <th>1</th>\n",
       "      <td>6.7</td>\n",
       "      <td>7.4</td>\n",
       "    </tr>\n",
       "    <tr>\n",
       "      <th>2</th>\n",
       "      <td>4.9</td>\n",
       "      <td>5.0</td>\n",
       "    </tr>\n",
       "    <tr>\n",
       "      <th>3</th>\n",
       "      <td>7.9</td>\n",
       "      <td>7.2</td>\n",
       "    </tr>\n",
       "    <tr>\n",
       "      <th>4</th>\n",
       "      <td>9.8</td>\n",
       "      <td>7.9</td>\n",
       "    </tr>\n",
       "    <tr>\n",
       "      <th>5</th>\n",
       "      <td>6.9</td>\n",
       "      <td>6.1</td>\n",
       "    </tr>\n",
       "    <tr>\n",
       "      <th>6</th>\n",
       "      <td>6.1</td>\n",
       "      <td>6.0</td>\n",
       "    </tr>\n",
       "    <tr>\n",
       "      <th>7</th>\n",
       "      <td>6.2</td>\n",
       "      <td>5.8</td>\n",
       "    </tr>\n",
       "    <tr>\n",
       "      <th>8</th>\n",
       "      <td>6.0</td>\n",
       "      <td>5.2</td>\n",
       "    </tr>\n",
       "    <tr>\n",
       "      <th>9</th>\n",
       "      <td>5.1</td>\n",
       "      <td>4.2</td>\n",
       "    </tr>\n",
       "    <tr>\n",
       "      <th>10</th>\n",
       "      <td>4.7</td>\n",
       "      <td>4.0</td>\n",
       "    </tr>\n",
       "    <tr>\n",
       "      <th>11</th>\n",
       "      <td>4.4</td>\n",
       "      <td>4.4</td>\n",
       "    </tr>\n",
       "    <tr>\n",
       "      <th>12</th>\n",
       "      <td>5.8</td>\n",
       "      <td>5.2</td>\n",
       "    </tr>\n",
       "  </tbody>\n",
       "</table>\n",
       "</div>"
      ],
      "text/plain": [
       "      0    1\n",
       "0   2.9  4.0\n",
       "1   6.7  7.4\n",
       "2   4.9  5.0\n",
       "3   7.9  7.2\n",
       "4   9.8  7.9\n",
       "5   6.9  6.1\n",
       "6   6.1  6.0\n",
       "7   6.2  5.8\n",
       "8   6.0  5.2\n",
       "9   5.1  4.2\n",
       "10  4.7  4.0\n",
       "11  4.4  4.4\n",
       "12  5.8  5.2"
      ]
     },
     "execution_count": 198,
     "metadata": {},
     "output_type": "execute_result"
    }
   ],
   "source": [
    "import pandas as pd\n",
    "df=pd.read_csv(r'C:\\Users\\SaiF El-deen\\Desktop\\Numerical Optimization\\Practicals\\RegData.csv', sep=',',header=None)\n",
    "df"
   ]
  },
  {
   "cell_type": "code",
   "execution_count": 199,
   "metadata": {},
   "outputs": [
    {
     "name": "stdout",
     "output_type": "stream",
     "text": [
      "X_data = [2.9000001  6.69999981 4.9000001  7.9000001  9.80000019 6.9000001\n",
      " 6.0999999  6.19999981 6.         5.0999999  4.69999981 4.4000001\n",
      " 5.80000019]\n",
      "y_data = [4.         7.4000001  5.         7.19999981 7.9000001  6.0999999\n",
      " 6.         5.80000019 5.19999981 4.19999981 4.         4.4000001\n",
      " 5.19999981]\n"
     ]
    }
   ],
   "source": [
    "x_points = df[0].values\n",
    "y_points = df[1].values\n",
    "print(\"X_data =\",x_points)\n",
    "print(\"y_data =\",y_points)"
   ]
  },
  {
   "cell_type": "code",
   "execution_count": 200,
   "metadata": {},
   "outputs": [
    {
     "name": "stdout",
     "output_type": "stream",
     "text": [
      "(13,)\n",
      "X_data =\n",
      " [[2.9000001 ]\n",
      " [6.69999981]\n",
      " [4.9000001 ]\n",
      " [7.9000001 ]\n",
      " [9.80000019]\n",
      " [6.9000001 ]\n",
      " [6.0999999 ]\n",
      " [6.19999981]\n",
      " [6.        ]\n",
      " [5.0999999 ]\n",
      " [4.69999981]\n",
      " [4.4000001 ]\n",
      " [5.80000019]]\n",
      "(13,)\n",
      "y_data =\n",
      " [[4.        ]\n",
      " [7.4000001 ]\n",
      " [5.        ]\n",
      " [7.19999981]\n",
      " [7.9000001 ]\n",
      " [6.0999999 ]\n",
      " [6.        ]\n",
      " [5.80000019]\n",
      " [5.19999981]\n",
      " [4.19999981]\n",
      " [4.        ]\n",
      " [4.4000001 ]\n",
      " [5.19999981]]\n"
     ]
    }
   ],
   "source": [
    "print(x_points.shape)\n",
    "x_points = x_points.reshape((-1,1))\n",
    "print(\"X_data =\\n\",x_points)\n",
    "\n",
    "print(y_points.shape)\n",
    "y_points = y_points.reshape((-1,1))\n",
    "print(\"y_data =\\n\",y_points)"
   ]
  },
  {
   "cell_type": "code",
   "execution_count": 201,
   "metadata": {},
   "outputs": [],
   "source": [
    "def GD(x_data,y_data,epochs,batch_size,gamma,alpha): # General rule but if \"mini patch\" then batch size = 4 , \"stochastic\" then batch size = 1 , \"batch GD\" then batch size = 12\n",
    "    m = len(x_data)\n",
    "    vt = 0\n",
    "    loss = []\n",
    "    theta_iteration = []\n",
    "    x_data = x_data.reshape((-1,1))\n",
    "    y_data = y_data.reshape((-1,1))\n",
    "    theta = np.zeros((2,1)) \n",
    "    b = batch_size\n",
    "    steps = m//b if (m%b)==0 else (m//b)+1 # integer division to get all steps even the missed step we +1 \n",
    "    for _ in range(epochs):\n",
    "        for step in range(steps):\n",
    "            x_batch = x_data[step*b:(step+1)*b]\n",
    "            y_batch = y_data[step*b:(step+1)*b]\n",
    "            x_batch = np.concatenate((np.ones_like(x_batch),x_batch),axis=1) # ones in x batch\n",
    "            h = x_batch @ theta # 4x2 @ 2x1\n",
    "            loss.append((1/(2*b))*np.sum(np.square(h-y_batch)))\n",
    "            vt = gamma*vt + alpha * (1/b)*(x_batch.T@(h-y_batch)) # gamma 0 till 1 > 0 then no momentum  #// x_batch.T 2x4  x (h-y_batch) 4x1 = 2x1\n",
    "            theta = theta - vt\n",
    "            theta_iteration.append(theta)\n",
    "    loss = np.array(loss)\n",
    "    theta_iteration = np.array(theta_iteration)\n",
    "    return theta , loss ,theta_iteration"
   ]
  },
  {
   "cell_type": "code",
   "execution_count": 202,
   "metadata": {},
   "outputs": [
    {
     "name": "stdout",
     "output_type": "stream",
     "text": [
      "theta =  [[0.15867899]\n",
      " [0.89376835]]\n",
      "loss =  [1.65374999e+01 3.96665160e-02 8.71699442e-01 2.26025761e-04\n",
      " 2.45576853e-01 4.64505417e-04 2.19024419e-01 8.32160107e-04\n",
      " 2.17455685e-01 9.19707692e-04 2.17140939e-01 9.39522355e-04\n",
      " 2.16929591e-01 9.45397463e-04 2.16733490e-01 9.48482459e-04\n",
      " 2.16540652e-01 9.51011625e-04 2.16348911e-01 9.53429794e-04]\n",
      "h =\n",
      " [array([2.75060727]), array([6.14692673]), array([4.53814396]), array([7.219449]), array([8.91760894]), array([6.32568065]), array([5.61066581]), array([5.70004256]), array([5.52128906]), array([4.71689746]), array([4.35939004]), array([4.09125979]), array([5.34253556])]\n"
     ]
    },
    {
     "data": {
      "image/png": "[encoded data removed]",
      "text/plain": [
       "<Figure size 1008x576 with 4 Axes>"
      ]
     },
     "metadata": {
      "needs_background": "light"
     },
     "output_type": "display_data"
    }
   ],
   "source": [
    "# Batch Gradient decent\n",
    "theta,loss, theta_iteration = GD(x_points,y_points,batch_size=12,gamma=0,epochs=10,alpha=0.02)\n",
    "print(\"theta = \",theta)\n",
    "# print(\"theta trials =\\n\",theta_iteration)\n",
    "\n",
    "print(\"loss = \",loss)\n",
    "h = []\n",
    "for x in x_points:\n",
    "    h.append(theta[0] + theta[1]*x)\n",
    "print(\"h =\\n\",h)\n",
    "\n",
    "fig = plt.figure(figsize=(14,8))\n",
    "\n",
    "fig1 =  fig.add_subplot(221)\n",
    "fig1.scatter(x_points,y_points)\n",
    "plt.plot(x_points,h,'r')\n",
    "plt.title(\"Result\",fontsize=20)\n",
    "plt.xlabel(\"X\")\n",
    "plt.ylabel(\"Y\");\n",
    "\n",
    "fig2 =  fig.add_subplot(222)\n",
    "fig2.plot(loss)\n",
    "plt.title(\"Loss graph \",fontsize=16);\n",
    "plt.xlabel(\"epoch\")\n",
    "plt.ylabel(\"loss\");\n",
    "\n",
    "fig3 =  fig.add_subplot(223)\n",
    "fig3.plot(theta_iteration[:,0],loss)\n",
    "plt.title(\"Loss vs Theta \",fontsize=16);\n",
    "plt.xlabel(\"theta_0\")\n",
    "plt.ylabel(\"loss\");\n",
    "\n",
    "fig4 =  fig.add_subplot(224)\n",
    "fig4.plot(theta_iteration[:,1],loss)\n",
    "plt.title(\"Loss vs Theta \",fontsize=16);\n",
    "plt.xlabel(\"theta_1\")\n",
    "plt.ylabel(\"loss\");"
   ]
  },
  {
   "cell_type": "code",
   "execution_count": 203,
   "metadata": {},
   "outputs": [
    {
     "name": "stdout",
     "output_type": "stream",
     "text": [
      "r2_score = 74.87368857710149 %\n"
     ]
    }
   ],
   "source": [
    "print(\"r2_score =\" ,r2_score(y,h) * 100,\"%\")"
   ]
  },
  {
   "cell_type": "code",
   "execution_count": 207,
   "metadata": {},
   "outputs": [
    {
     "data": {
      "image/png": "[encoded data removed]",
      "text/plain": [
       "<Figure size 432x288 with 1 Axes>"
      ]
     },
     "metadata": {
      "needs_background": "light"
     },
     "output_type": "display_data"
    }
   ],
   "source": [
    "from sklearn import linear_model\n",
    "plt.scatter(x_points,y_points)\n",
    "plt.plot(x_points,h,color = 'red')\n",
    "X= x_points.reshape(-1,1)\n",
    "y= y_points\n",
    "model = linear_model.LinearRegression()\n",
    "model.fit(X,y)\n",
    "plt.plot(x_points , model.predict(X) , color = 'black');"
   ]
  }
 ],
 "metadata": {
  "kernelspec": {
   "display_name": "Python 3",
   "language": "python",
   "name": "python3"
  },
  "language_info": {
   "codemirror_mode": {
    "name": "ipython",
    "version": 3
   },
   "file_extension": ".py",
   "mimetype": "text/x-python",
   "name": "python",
   "nbconvert_exporter": "python",
   "pygments_lexer": "ipython3",
   "version": "3.7.10"
  }
 },
 "nbformat": 4,
 "nbformat_minor": 4
}
